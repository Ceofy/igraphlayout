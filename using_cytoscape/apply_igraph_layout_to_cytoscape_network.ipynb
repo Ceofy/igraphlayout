{
 "cells": [
  {
   "cell_type": "markdown",
   "metadata": {},
   "source": [
    "# Apply igraph layout to Cytoscape network\n",
    "\n",
    "This notebook applies an igraph layout to a Cytoscape network.\n",
    "\n",
    "The network you are working on should be open in Cytoscape."
   ]
  },
  {
   "cell_type": "code",
   "execution_count": 1,
   "metadata": {},
   "outputs": [],
   "source": [
    "import igraph\n",
    "\n",
    "import py4cytoscape as py4\n",
    "import logging\n",
    "logging.disable(logging.INFO)\n",
    "\n",
    "%run utils/cytoscape_to_shapely.ipynb\n",
    "%run utils/cytoscape_node_to_shapely_node.ipynb"
   ]
  },
  {
   "cell_type": "markdown",
   "metadata": {},
   "source": [
    "### Import network\n",
    "\n",
    "Import a network from Cytoscape.\n",
    "\n",
    "```CY_NETWORK``` should contain the name of the network, its SUID, or ```None``` to indicate the current network."
   ]
  },
  {
   "cell_type": "code",
   "execution_count": 2,
   "metadata": {},
   "outputs": [],
   "source": [
    "#Import a network from Cytoscape\n",
    "CY_NETWORK = None #defaults to current network\n",
    "\n",
    "#Create empty igraph\n",
    "ig_network = igraph.Graph()\n",
    "\n",
    "#Add nodes\n",
    "nodes = py4.tables.get_table_columns(columns='SUID', network=CY_NETWORK)\n",
    "for index, suid in nodes['SUID'].items():\n",
    "    ig_network.add_vertex(name=str(suid))\n",
    "\n",
    "#Add edges\n",
    "edges = py4.tables.get_table_columns(table='edge', columns='SUID', network=CY_NETWORK)\n",
    "edges_list = [[suid] for suid in edges['SUID'].to_list()]\n",
    "edges_info = py4.networks.get_edge_info(edges_list)\n",
    "for edge in edges_info:\n",
    "    ig_network.add_edge(str(edge['source']), str(edge['target']))"
   ]
  },
  {
   "cell_type": "markdown",
   "metadata": {},
   "source": [
    "### Apply a layout\n",
    "\n",
    "Compute an igraph layout using one of the ```LAYOUT``` names found here: \n",
    "\n",
    "https://igraph.org/python/doc/tutorial/tutorial.html#layout-algorithms\n",
    "\n",
    "Or here:\n",
    "\n",
    "https://igraph.org/python/doc/tutorial/visualisation.html#graph-layouts (the list starts after scrolling down a little)\n",
    "\n",
    "Set the ```BUFFER``` variable to a number indicating the amount of space to leave between nodes. ```BUFFER``` has the same units as node width and node height in Cytoscape."
   ]
  },
  {
   "cell_type": "code",
   "execution_count": 7,
   "metadata": {},
   "outputs": [
    {
     "name": "stdout",
     "output_type": "stream",
     "text": [
      "7501\n"
     ]
    }
   ],
   "source": [
    "#Compute the layout\n",
    "LAYOUT = 'tree'\n",
    "BUFFER = 10\n",
    "\n",
    "layout = ig_network.layout(LAYOUT)\n",
    "\n",
    "#Adjust the layout to remove overlap and export to Cytoscape\n",
    "apply_layout_to_cytoscape_graph(CY_NETWORK, ig_network.vs['name'], layout, upper_bound=1000000, buffer=BUFFER)"
   ]
  },
  {
   "cell_type": "code",
   "execution_count": null,
   "metadata": {},
   "outputs": [],
   "source": []
  }
 ],
 "metadata": {
  "kernelspec": {
   "display_name": "Python 3",
   "language": "python",
   "name": "python3"
  },
  "language_info": {
   "codemirror_mode": {
    "name": "ipython",
    "version": 3
   },
   "file_extension": ".py",
   "mimetype": "text/x-python",
   "name": "python",
   "nbconvert_exporter": "python",
   "pygments_lexer": "ipython3",
   "version": "3.8.2"
  }
 },
 "nbformat": 4,
 "nbformat_minor": 4
}
