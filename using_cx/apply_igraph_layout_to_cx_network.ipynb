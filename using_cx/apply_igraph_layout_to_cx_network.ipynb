{
 "cells": [
  {
   "cell_type": "markdown",
   "metadata": {},
   "source": [
    "# Apply igraph layout to CX network\n",
    "\n",
    "This notebook applies an igraph layout to a CX network.\n",
    "\n",
    "The network can be imported from NDEx or from a ```.cx``` file."
   ]
  },
  {
   "cell_type": "code",
   "execution_count": 20,
   "metadata": {},
   "outputs": [],
   "source": [
    "import ndex2\n",
    "import igraph\n",
    "import json"
   ]
  },
  {
   "cell_type": "markdown",
   "metadata": {},
   "source": [
    "### Import a network\n",
    "\n",
    "Import a network from NDEx or from a ```.cx``` file.\n",
    "\n",
    "If you're importing from NDEx:\n",
    "* ```IMPORT_FROM_NDEX``` should be set to ```True```. \n",
    "* ```NDEX_SERVER``` should be set to the address of the server you are importing from (usually ```ndexbio.org```).\n",
    "* ```NDEX_USER``` should be the user name of your NDEx account.\n",
    "* ```NDEX_PASSWORD``` should be the password of your NDEx account.\n",
    "* ```NDEX_UUID``` should be the UUID of the network you are importing.\n",
    "\n",
    "If you're importing from a ```.cx``` file:\n",
    "* ```IMPORT_FROM_NDEX``` should be set to ```False```. \n",
    "* ```CX_FILE``` should be set to the path of the ```.cx``` file you are importing."
   ]
  },
  {
   "cell_type": "code",
   "execution_count": 52,
   "metadata": {},
   "outputs": [],
   "source": [
    "#Import network from NDEx or cx file\n",
    "IMPORT_FROM_NDEX = False\n",
    "\n",
    "#Constants for importing from ndex\n",
    "NDEX_SERVER = 'dev.ndexbio.org'\n",
    "NDEX_USER = 'sol015'\n",
    "NDEX_PASSWORD = 'test12345'\n",
    "NDEX_UUID = 'e4f080cd-1b49-11e9-a05d-525400c25d22'\n",
    "\n",
    "#Constants for importing from cx file\n",
    "CX_FILE = '/Users/sophieliu/Downloads/Adipogenesis (1).cx'\n",
    "\n",
    "if IMPORT_FROM_NDEX:\n",
    "    nice_cx = ndex2.create_nice_cx_from_server(NDEX_SERVER, username=NDEX_USER, password=NDEX_PASSWORD, uuid=NDEX_UUID)\n",
    "else:\n",
    "    nice_cx = ndex2.create_nice_cx_from_file(CX_FILE)\n",
    "    \n",
    "#Convert the nice cx file to an igraph graph\n",
    "ig_network = igraph.Graph()\n",
    "\n",
    "#Add nodes\n",
    "for node_id, node in nice_cx.get_nodes():\n",
    "    ig_network.add_vertex(name=str(node_id))\n",
    "\n",
    "#Add edges\n",
    "for edge_id, edge in nice_cx.get_edges():\n",
    "    ig_network.add_edge(edge['s'], edge['t'])"
   ]
  },
  {
   "cell_type": "markdown",
   "metadata": {},
   "source": [
    "### Apply a layout\n",
    "\n",
    "Compute an igraph layout using one of the ```LAYOUT``` names found here: \n",
    "\n",
    "https://igraph.org/python/doc/tutorial/tutorial.html#layout-algorithms\n",
    "\n",
    "Or here:\n",
    "\n",
    "https://igraph.org/python/doc/tutorial/visualisation.html#graph-layouts (the list starts after scrolling down a little)\n",
    "\n",
    "The ```SCALE``` variable represents the amount by which the size of the layout will be scaled up (with a value of ```1``` representing no scaling). \n",
    "\n",
    "The IGraph layout algorithm will lay nodes out in a square which is too small for most CX networks, so the layout must be scaled up to ensure that nodes do not heavily overlap. Most layouts will look good with ```SCALE``` set to a value between ```200``` and ```500```."
   ]
  },
  {
   "cell_type": "code",
   "execution_count": 58,
   "metadata": {},
   "outputs": [],
   "source": [
    "#Apply layout\n",
    "LAYOUT = 'tree'\n",
    "SCALE = 300\n",
    "\n",
    "layout = ig_network.layout(LAYOUT)\n",
    "\n",
    "#Transfer layout back to nice cx network\n",
    "cartesian_layout = []\n",
    "for node_index in range(len(ig_network.vs)):\n",
    "    cartesian_layout.append({\n",
    "        'node': int(ig_network.vs[node_index]['name']),\n",
    "        'x': layout[node_index][0] * SCALE,\n",
    "        'y': -layout[node_index][1] * SCALE\n",
    "    })\n",
    "nice_cx.set_opaque_aspect(ndex2.constants.CARTESIAN_LAYOUT_ASPECT, cartesian_layout)"
   ]
  },
  {
   "cell_type": "markdown",
   "metadata": {},
   "source": [
    "### Export the network\n",
    "\n",
    "The network will be exported in the same format in which it was imported (either to NDEx or as a ```.cx``` file).\n",
    "\n",
    "If you are overwriting the imported network, ```REPLACE_OLD_NETWORK``` should be set to ```True```.\n",
    "\n",
    "If you would like to make a copy instead, ```REPLACE_OLD_NETWORK``` should be set to ```False```."
   ]
  },
  {
   "cell_type": "code",
   "execution_count": 59,
   "metadata": {},
   "outputs": [
    {
     "name": "stdout",
     "output_type": "stream",
     "text": [
      "Generating CX\n"
     ]
    }
   ],
   "source": [
    "#Export network\n",
    "REPLACE_OLD_NETWORK = False\n",
    "\n",
    "if IMPORT_FROM_NDEX:\n",
    "    if REPLACE_OLD_NETWORK:\n",
    "        nice_cx.update_to(NDEX_UUID, NDEX_SERVER, NDEX_USER, NDEX_PASSWORD)\n",
    "    else:\n",
    "        nice_cx.upload_to(NDEX_SERVER, NDEX_USER, NDEX_PASSWORD)\n",
    "else:\n",
    "    cx = nice_cx.to_cx()\n",
    "    if REPLACE_OLD_NETWORK:\n",
    "        with open(CX_FILE, 'w') as outfile:\n",
    "            json.dump(cx, outfile)\n",
    "    else:\n",
    "        #Create new file name\n",
    "        new_file_name = CX_FILE[:-3] + '_layout_' + LAYOUT + '_scale_' + str(SCALE) + '.cx'\n",
    "        with open(new_file_name, 'w') as outfile:\n",
    "            json.dump(cx, outfile)"
   ]
  },
  {
   "cell_type": "code",
   "execution_count": null,
   "metadata": {},
   "outputs": [],
   "source": []
  }
 ],
 "metadata": {
  "kernelspec": {
   "display_name": "Python 3",
   "language": "python",
   "name": "python3"
  },
  "language_info": {
   "codemirror_mode": {
    "name": "ipython",
    "version": 3
   },
   "file_extension": ".py",
   "mimetype": "text/x-python",
   "name": "python",
   "nbconvert_exporter": "python",
   "pygments_lexer": "ipython3",
   "version": "3.8.2"
  }
 },
 "nbformat": 4,
 "nbformat_minor": 4
}
